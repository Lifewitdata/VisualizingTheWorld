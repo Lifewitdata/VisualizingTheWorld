{
  "nbformat": 4,
  "nbformat_minor": 0,
  "metadata": {
    "colab": {
      "provenance": [],
      "toc_visible": true,
      "authorship_tag": "ABX9TyPnjSh5y7GAZWV1Iv5fGIeV",
      "include_colab_link": true
    },
    "kernelspec": {
      "name": "python3",
      "display_name": "Python 3"
    },
    "language_info": {
      "name": "python"
    }
  },
  "cells": [
    {
      "cell_type": "markdown",
      "metadata": {
        "id": "view-in-github",
        "colab_type": "text"
      },
      "source": [
        "<a href=\"https://colab.research.google.com/github/Lifewitdata/dprojects/blob/main/NewsMagnet_Web_Scraping_Script.ipynb\" target=\"_parent\"><img src=\"https://colab.research.google.com/assets/colab-badge.svg\" alt=\"Open In Colab\"/></a>"
      ]
    },
    {
      "cell_type": "code",
      "execution_count": 1,
      "metadata": {
        "colab": {
          "base_uri": "https://localhost:8080/"
        },
        "id": "kiGuKw-7dbQn",
        "outputId": "0df73ea7-e001-4693-e67f-2e139c0936b4"
      },
      "outputs": [
        {
          "output_type": "stream",
          "name": "stdout",
          "text": [
            "        <!DOCTYPE html>\n",
            "        <html lang=\"pt-BR\" class=\"scroll-smooth\">\n",
            "\n",
            "        <head>\n",
            "            <meta charset=\"UTF-8\">\n",
            "            <meta name=\"viewport\" content=\"width=device-width, initial-scale=1.0\">\n",
            "            <title>De FAAMG para Sete Maravilhas ou Quarteto Fantástico: afinal, as big techs estão mesmo caras?</title>\n",
            "            <script>\n",
            "    window.googletag = {cmd: []};\n",
            "    window.baseDataAnalytics = {\"tagging_version\":\"v2\",\"page\":{\"page_location\":\"https:\\/\\/www.infomoney.com.br\\/colu\n"
          ]
        }
      ],
      "source": [
        "import requests\n",
        "\n",
        "def fetch_web_content(url):\n",
        "    try:\n",
        "        response = requests.get(url)\n",
        "        if response.status_code == 200:\n",
        "            return response.text\n",
        "        else:\n",
        "            return f\"Error: Unable to fetch content. Status code: {response.status_code}\"\n",
        "    except Exception as e:\n",
        "        return f\"An error occurred: {str(e)}\"\n",
        "\n",
        "def main():\n",
        "    url = 'https://www.infomoney.com.br/colunistas/convidados/de-faamg-para-sete-maravilhas-ou-quarteto-fantastico-afinal-as-big-techs-estao-mesmo-caras/'\n",
        "    page = fetch_web_content(url)\n",
        "    print(page[:500])  # Print first 500 characters to avoid flooding the console\n",
        "\n",
        "if __name__ == \"__main__\":\n",
        "    main()"
      ]
    },
    {
      "cell_type": "code",
      "source": [],
      "metadata": {
        "id": "8BsbmG-odl0A"
      },
      "execution_count": null,
      "outputs": []
    }
  ]
}